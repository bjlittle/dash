{
 "cells": [
  {
   "cell_type": "code",
   "execution_count": null,
   "metadata": {
    "collapsed": true
   },
   "outputs": [],
   "source": [
    "import operator\n",
    "from pathlib import Path\n",
    "from pprint import pprint\n",
    "import requests"
   ]
  },
  {
   "cell_type": "code",
   "execution_count": null,
   "metadata": {
    "collapsed": true
   },
   "outputs": [],
   "source": [
    "URL = 'https://api.github.com'\n",
    "USER = 'bjlittle'\n",
    "REPO = 'dash'"
   ]
  },
  {
   "cell_type": "code",
   "execution_count": null,
   "metadata": {
    "collapsed": true
   },
   "outputs": [],
   "source": [
    "def api_token():\n",
    "    fname = Path('token.txt')\n",
    "    if not fname.exists():\n",
    "        raise IOError(\"Problem with {}\".fname.name)\n",
    "    token = fname.read_text().strip()\n",
    "    return token"
   ]
  },
  {
   "cell_type": "code",
   "execution_count": null,
   "metadata": {
    "collapsed": true
   },
   "outputs": [],
   "source": [
    "def get_content(target, accept=None):\n",
    "    if accept is None:\n",
    "        accept = 'application/vnd.github.v3+json'\n",
    "    token = api_token()\n",
    "    headers = {'Accept': accept, 'Authorization': 'token {}'.format(token)}\n",
    "    response = requests.get('{}{}'.format(URL, target), headers=headers)\n",
    "    response.raise_for_status()\n",
    "    content = response.json()\n",
    "    return content"
   ]
  },
  {
   "cell_type": "code",
   "execution_count": null,
   "metadata": {
    "collapsed": true
   },
   "outputs": [],
   "source": [
    "def post_content(target, json, accept=None):\n",
    "    if accept is None:\n",
    "        accept = 'application/vnd.github.v3+json'\n",
    "    token = api_token()\n",
    "    headers = {'Accept': accept, 'Authorization': 'token {}'.format(token)}\n",
    "    response = requests.post('{}{}'.format(URL, target), json=json, headers=headers)\n",
    "    response.raise_for_status()\n",
    "    content = response.json()\n",
    "    return content"
   ]
  },
  {
   "cell_type": "code",
   "execution_count": null,
   "metadata": {
    "collapsed": true
   },
   "outputs": [],
   "source": [
    "def get_issues(user, repo, label=None):\n",
    "    target = '/repos/{}/{}/issues'.format(user, repo)\n",
    "    issues = get_content(target)\n",
    "    result = []\n",
    "    for issue in issues:\n",
    "        if label is not None:\n",
    "            for item in issue['labels']:\n",
    "                if item['name'].lower() == label.lower():\n",
    "                    result.append(issue)\n",
    "        else:\n",
    "            result.append(issue)\n",
    "    return result"
   ]
  },
  {
   "cell_type": "code",
   "execution_count": null,
   "metadata": {
    "collapsed": true
   },
   "outputs": [],
   "source": [
    "def get_projects(user, repo, label=None):\n",
    "    target = '/repos/{}/{}/projects'.format(user, repo)\n",
    "    projects = get_content(target, accept='application/vnd.github.inertia-preview+json')\n",
    "    if label is not None:\n",
    "        name = '{} project'.format(label.lower())\n",
    "        for project in projects:\n",
    "            if project['name'].lower() == name:\n",
    "                result = project\n",
    "                break\n",
    "    else:\n",
    "        result = projects\n",
    "    return result"
   ]
  },
  {
   "cell_type": "code",
   "execution_count": null,
   "metadata": {
    "collapsed": true
   },
   "outputs": [],
   "source": [
    "def get_project_columns(project, name=None):\n",
    "    target = '/projects/{}/columns'.format(project['id'])\n",
    "    columns = get_content(target, accept='application/vnd.github.inertia-preview+json')\n",
    "    if name is not None:\n",
    "        for column in columns:\n",
    "            if column['name'].lower() == name.lower():\n",
    "                result = column\n",
    "                break\n",
    "    else:\n",
    "        result = columns\n",
    "    return result"
   ]
  },
  {
   "cell_type": "code",
   "execution_count": null,
   "metadata": {
    "collapsed": true
   },
   "outputs": [],
   "source": [
    "def get_project_column_cards(column):\n",
    "    target = '/projects/columns/{}/cards'.format(column['id'])\n",
    "    cards = get_content(target, accept='application/vnd.github.inertia-preview+json')\n",
    "    return cards"
   ]
  },
  {
   "cell_type": "code",
   "execution_count": null,
   "metadata": {
    "collapsed": true
   },
   "outputs": [],
   "source": [
    "def post_project_column_cards(column, issues):\n",
    "    target = '/projects/columns/{}/cards'.format(column['id'])\n",
    "    for issue in issues:\n",
    "        json = {'content_id': issue['id'], 'content_type': 'Issue'}\n",
    "        response = post_content(target, json, accept='application/vnd.github.inertia-preview+json')"
   ]
  },
  {
   "cell_type": "code",
   "execution_count": null,
   "metadata": {
    "collapsed": true
   },
   "outputs": [],
   "source": [
    "def get_project_issue_urls(project):\n",
    "    columns = get_project_columns(project)\n",
    "    urls = []\n",
    "    for column in columns:\n",
    "        for card in get_project_column_cards(column):\n",
    "            urls.append(card['content_url'])\n",
    "    return urls"
   ]
  },
  {
   "cell_type": "code",
   "execution_count": null,
   "metadata": {
    "collapsed": true
   },
   "outputs": [],
   "source": [
    "def filter_project_issues(project, issues):\n",
    "    urls = get_project_issue_urls(project)\n",
    "    result = []\n",
    "    for issue in issues:\n",
    "        if issue['url'] not in urls:\n",
    "            result.append(issue)\n",
    "    return result"
   ]
  },
  {
   "cell_type": "code",
   "execution_count": null,
   "metadata": {},
   "outputs": [],
   "source": [
    "label = 'bug'\n",
    "issues = get_issues(USER, REPO, label=label)\n",
    "project = get_projects(USER, REPO, label=label)\n",
    "column = get_project_columns(project, name='backlog')\n",
    "issues = filter_project_issues(project, issues)\n",
    "post_project_column_cards(column, issues)"
   ]
  },
  {
   "cell_type": "code",
   "execution_count": null,
   "metadata": {
    "collapsed": true
   },
   "outputs": [],
   "source": []
  }
 ],
 "metadata": {
  "kernelspec": {
   "display_name": "Python 3",
   "language": "python",
   "name": "python3"
  },
  "language_info": {
   "codemirror_mode": {
    "name": "ipython",
    "version": 3
   },
   "file_extension": ".py",
   "mimetype": "text/x-python",
   "name": "python",
   "nbconvert_exporter": "python",
   "pygments_lexer": "ipython3",
   "version": "3.6.2"
  }
 },
 "nbformat": 4,
 "nbformat_minor": 2
}
